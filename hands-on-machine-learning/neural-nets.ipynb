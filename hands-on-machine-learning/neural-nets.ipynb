{
 "cells": [
  {
   "cell_type": "markdown",
   "id": "4a0016bd-75da-4d7f-a52d-6441ec9b93f9",
   "metadata": {},
   "source": [
    "# Neural Nets"
   ]
  },
  {
   "cell_type": "code",
   "execution_count": 1,
   "id": "6f08f9d8-0f7d-47bb-92d4-ab7f081c25c7",
   "metadata": {},
   "outputs": [],
   "source": [
    "import numpy as np\n",
    "import matplotlib.pyplot as plt"
   ]
  },
  {
   "cell_type": "markdown",
   "id": "9edcfc07-7e70-40d8-988d-c36abd7615a8",
   "metadata": {},
   "source": [
    "## Single perceptron"
   ]
  },
  {
   "cell_type": "code",
   "execution_count": 2,
   "id": "226ab255-265a-4dee-aaa3-7967c36a6be7",
   "metadata": {},
   "outputs": [
    {
     "name": "stdout",
     "output_type": "stream",
     "text": [
      "Weighted sum (z): 0.1\n"
     ]
    }
   ],
   "source": [
    "# Starting with the weighted sum of inputs\n",
    "\n",
    "def weighted_sum(inputs, weights, bias):\n",
    "    return np.dot(inputs, weights) + bias\n",
    "\n",
    "# Testing\n",
    "inputs = np.array([1, -1])\n",
    "weights = np.array([0.5, 0.5])\n",
    "bias = 0.1\n",
    "\n",
    "z = weighted_sum(inputs, weights, bias)\n",
    "print(f\"Weighted sum (z): {z}\")"
   ]
  },
  {
   "cell_type": "code",
   "execution_count": 3,
   "id": "141d1aa7-2737-4a9e-ab8e-84480cb96729",
   "metadata": {},
   "outputs": [
    {
     "name": "stdout",
     "output_type": "stream",
     "text": [
      "Perceptrons output is: 1\n"
     ]
    }
   ],
   "source": [
    "def step_function(z):\n",
    "    return 1 if z >=0 else 0\n",
    "\n",
    "output = step_function(z)\n",
    "print(f\"Perceptrons output is: {output}\")"
   ]
  },
  {
   "cell_type": "code",
   "execution_count": 4,
   "id": "f1541571-1e6e-47e4-ba8d-8298e80f0610",
   "metadata": {},
   "outputs": [
    {
     "name": "stdout",
     "output_type": "stream",
     "text": [
      "Prediction: 1\n"
     ]
    }
   ],
   "source": [
    "# Now as a class\n",
    "class perceptron():\n",
    "    def __init__(self, input_size):\n",
    "        self.weights = np.zeros(input_size)\n",
    "        self.bias = 0.0\n",
    "\n",
    "    def step_function(self, z):\n",
    "        return 1 if z >= 0 else 0\n",
    "\n",
    "    def predict(self, X):\n",
    "        z = np.dot(self.weights, X) + self.bias\n",
    "        return step_function(z)\n",
    "\n",
    "# Testing\n",
    "p = perceptron(input_size=2)\n",
    "sample_input = np.array([2, -1])\n",
    "prediction = p.predict(sample_input)\n",
    "\n",
    "print(f\"Prediction: {prediction}\")"
   ]
  },
  {
   "cell_type": "code",
   "execution_count": 5,
   "id": "383e4acb-368c-4869-9b39-839baf7de7f3",
   "metadata": {},
   "outputs": [
    {
     "name": "stdout",
     "output_type": "stream",
     "text": [
      "Epoch 1/10: Weights = [0.1 0.2], Bias = -0.1\n",
      "Epoch 2/10: Weights = [0.1 0.2], Bias = -0.1\n",
      "Epoch 3/10: Weights = [0.1 0.2], Bias = -0.1\n",
      "Epoch 4/10: Weights = [0.1 0.2], Bias = -0.1\n",
      "Epoch 5/10: Weights = [0.1 0.2], Bias = -0.1\n",
      "Epoch 6/10: Weights = [0.1 0.2], Bias = -0.1\n",
      "Epoch 7/10: Weights = [0.1 0.2], Bias = -0.1\n",
      "Epoch 8/10: Weights = [0.1 0.2], Bias = -0.1\n",
      "Epoch 9/10: Weights = [0.1 0.2], Bias = -0.1\n",
      "Epoch 10/10: Weights = [0.1 0.2], Bias = -0.1\n"
     ]
    }
   ],
   "source": [
    "# Now with self training\n",
    "\n",
    "class Perceptron():\n",
    "    def __init__(self, input_size, learning_rate=0.1):\n",
    "        self.weights = np.zeros(input_size)\n",
    "        self.learning_rate = learning_rate\n",
    "        self.bias = 0.0\n",
    "\n",
    "    def step_function(self, z):\n",
    "        return 1 if z >=0 else 0\n",
    "\n",
    "    def predict(self, X):\n",
    "        z = np.dot(self.weights, X) + self.bias\n",
    "        return step_function(z)\n",
    "\n",
    "    def train(self, X_train, y_train, epochs = 10):\n",
    "        for epoch in range(epochs):\n",
    "            for i in range(len(X_train)):\n",
    "                prediction = self.predict(X_train[i])\n",
    "\n",
    "                error = y_train[i] - prediction\n",
    "\n",
    "                self.weights += self.learning_rate * error * X_train[i]\n",
    "                self.bias += self.learning_rate * error\n",
    "\n",
    "            # Logging info\n",
    "            print(f\"Epoch {epoch+1}/{epochs}: Weights = {self.weights}, Bias = {self.bias}\")\n",
    "\n",
    "# Testing\n",
    "X_train = np.array([[2, 3],[1, 1], [-1, -2], [-2, -3]])\n",
    "y_train = np.array([1, 1, 0, 0])\n",
    "\n",
    "p = Perceptron(input_size = 2, learning_rate = 0.1)\n",
    "p.train(X_train, y_train, 10)"
   ]
  },
  {
   "cell_type": "code",
   "execution_count": 6,
   "id": "f651de13-1f4b-43a2-bdca-82a2bfc8e884",
   "metadata": {},
   "outputs": [
    {
     "name": "stdout",
     "output_type": "stream",
     "text": [
      "Epoch 1/10: weights: [0.01 0.02] Bias: -0.1\n",
      "Epoch 2/10: weights: [0.03 0.05] Bias: 0.0\n",
      "Epoch 3/10: weights: [0.03 0.05] Bias: 0.0\n",
      "Epoch 4/10: weights: [0.03 0.05] Bias: 0.0\n",
      "Epoch 5/10: weights: [0.03 0.05] Bias: 0.0\n",
      "Epoch 6/10: weights: [0.03 0.05] Bias: 0.0\n",
      "Epoch 7/10: weights: [0.03 0.05] Bias: 0.0\n",
      "Epoch 8/10: weights: [0.03 0.05] Bias: 0.0\n",
      "Epoch 9/10: weights: [0.03 0.05] Bias: 0.0\n",
      "Epoch 10/10: weights: [0.03 0.05] Bias: 0.0\n",
      "\n",
      "Input: [0.1 0.2], Prediction: 1, True Label: 1\n",
      "Input: [-0.1 -0.1], Prediction: 0, True Label: 0\n",
      "Input: [0.3 0.3], Prediction: 1, True Label: 1\n",
      "Input: [-0.2 -0.2], Prediction: 0, True Label: 0\n",
      "Accuracy: 100.00%\n"
     ]
    }
   ],
   "source": [
    "# The final step for this baby, testing on unseen data\n",
    "\n",
    "class Perceptron():\n",
    "    def __init__(self, input_size, learning_rate):\n",
    "        self.weights = np.zeros(input_size)\n",
    "        self.bias = 0.0\n",
    "        self.learning_rate = learning_rate\n",
    "\n",
    "    def step_function(self, z):\n",
    "        return 1 if z >= 0 else 0\n",
    "\n",
    "    def predict(self, X):\n",
    "        z = np.dot(self.weights, X) + self.bias\n",
    "        return self.step_function(z)\n",
    "\n",
    "    def train(self, X_train, y_train, epochs = 100):\n",
    "        for epoch in range(epochs):\n",
    "            for i in range(len(X_train)):\n",
    "                prediction = self.predict(X_train[i])\n",
    "\n",
    "                error = y_train[i] - prediction\n",
    "\n",
    "                self.weights += self.learning_rate * error * X_train[i]\n",
    "                self.bias += self.learning_rate * error\n",
    "\n",
    "            print(f\"Epoch {epoch+1}/{epochs}: weights: {self.weights} Bias: {self.bias}\")\n",
    "\n",
    "    def test(self, X_test, y_test):\n",
    "        correct_predictions = 0\n",
    "\n",
    "        for i in range(len(X_test)):\n",
    "            prediction = self.predict(X_test[i])\n",
    "            print(f\"Input: {X_test[i]}, Prediction: {prediction}, True Label: {y_test[i]}\")\n",
    "\n",
    "            if prediction == y_test[i]:\n",
    "                correct_predictions += 1\n",
    "\n",
    "        accuracy = correct_predictions / len(X_test)\n",
    "        print(f\"Accuracy: {accuracy * 100:.2f}%\")\n",
    "\n",
    "X_test = np.array([[0.1, 0.2],[-0.1, -0.1],[0.3,0.3],[-0.2,-0.2]])\n",
    "y_test = np.array([1,0,1,0])\n",
    "\n",
    "X_train = np.array([[0.2, 0.3],[0.1, 0.1],[-0.1, -0.2],[-0.2, -0.3]])\n",
    "y_train = np.array([1,1,0,0])\n",
    "\n",
    "p = Perceptron(input_size = X_train.shape[1], learning_rate=0.1)\n",
    "p.train(X_train, y_train, 10)\n",
    "print()\n",
    "p.test(X_test, y_test)"
   ]
  },
  {
   "cell_type": "code",
   "execution_count": 7,
   "id": "2bbf45a0-a201-4c32-92b7-b01f715092e1",
   "metadata": {},
   "outputs": [
    {
     "data": {
      "image/png": "[encoded data removed]",
      "text/plain": [
       "<Figure size 640x480 with 1 Axes>"
      ]
     },
     "metadata": {},
     "output_type": "display_data"
    }
   ],
   "source": [
    "def plot_decision_boundary(perceptron, X, y):\n",
    "    x_min, x_max = X[:,0].min() -1, X[:,0].max() + 1\n",
    "    y_min, y_max = X[:,1].min() -1, X[:,1].max() + 1\n",
    "    xx, yy = np.meshgrid(np.arange(x_min, x_max, 0.1),\n",
    "                            np.arange(y_min, y_max, 0.1))\n",
    "\n",
    "    Z = np.array([p.predict(np.array([x, y])) for x, y in zip(xx.ravel(), yy.ravel())])\n",
    "    Z = Z.reshape(xx.shape)\n",
    "\n",
    "    plt.contourf(xx, yy, Z, alpha=0.8, cmap=\"coolwarm\")\n",
    "    plt.scatter(X[:, 0], X[:, 1], c=y, edgecolors = \"k\", cmap=\"coolwarm\")\n",
    "    plt.title(\"Decision Boundary\")\n",
    "    plt.show()\n",
    "\n",
    "plot_decision_boundary(p, X_test, y_test)"
   ]
  },
  {
   "cell_type": "markdown",
   "id": "2c86437a-a55a-43e6-b338-68a8817952e9",
   "metadata": {},
   "source": [
    "## Multilayered Perceptron"
   ]
  },
  {
   "cell_type": "code",
   "execution_count": 8,
   "id": "0ecf0773-6cf5-44d3-ac0e-68e0223d5fd0",
   "metadata": {},
   "outputs": [],
   "source": [
    "import numpy as np"
   ]
  },
  {
   "cell_type": "code",
   "execution_count": 9,
   "id": "0ef9c78d-097a-417c-b8f6-30bf22c72ecc",
   "metadata": {},
   "outputs": [],
   "source": [
    "input_size = 2    # Number of features\n",
    "hidden_size = 4   # Number of neurons for hidden layer\n",
    "output_size = 1   # Number of outputs, 1 = binary classification"
   ]
  },
  {
   "cell_type": "code",
   "execution_count": 10,
   "id": "1ab64c88-8dd6-4a4f-89ea-7b8cc6a75928",
   "metadata": {},
   "outputs": [],
   "source": [
    "np.random.seed(42)\n",
    "\n",
    "# Setting the initial weights and bias's\n",
    "W1 = np.random.randn(hidden_size, input_size)\n",
    "b1 = np.random.randn(hidden_size)\n",
    "W2 = np.random.randn(output_size, hidden_size)\n",
    "b2 = np.random.randn(output_size)"
   ]
  },
  {
   "cell_type": "code",
   "execution_count": 12,
   "id": "6b03e522-9e26-4872-9f0b-27a02fc2311e",
   "metadata": {},
   "outputs": [
    {
     "name": "stdout",
     "output_type": "stream",
     "text": [
      "After forward prop: [[0.11396142]\n",
      " [0.00585534]\n",
      " [0.01965415]\n",
      " [0.00070141]]\n"
     ]
    }
   ],
   "source": [
    "def relu(x):\n",
    "    return np.maximum(0, x)\n",
    "\n",
    "\n",
    "def sigmoid(x):\n",
    "    return 1 / (1 + np.exp(-x))\n",
    "\n",
    "\n",
    "def forward_prop(X):\n",
    "    z1 = np.dot(X, W1.T) + b1\n",
    "    a1 = relu(z1)\n",
    "\n",
    "    z2 = np.dot(a1, W2.T) + b2\n",
    "    a2 = sigmoid(z2)\n",
    "\n",
    "    return a2\n",
    "\n",
    "\n",
    "X = np.array([[0,0],[0,1],[1,0],[1,1]])\n",
    "y = np.array([0,1,1,0])\n",
    "\n",
    "outputs = forward_prop(X)\n",
    "print(f\"After forward prop: {forward_prop(X)}\")"
   ]
  },
  {
   "cell_type": "code",
   "execution_count": 15,
   "id": "725fc831-2234-425b-a0fe-f7379966664a",
   "metadata": {},
   "outputs": [
    {
     "name": "stdout",
     "output_type": "stream",
     "text": [
      "Initial loss: 2.3314\n"
     ]
    }
   ],
   "source": [
    "def compute_loss(y_true, y_pred):\n",
    "    m = y_true.shape[0]\n",
    "\n",
    "    # Protect against zero divide error\n",
    "    epsilon = 1e-15\n",
    "    y_pred = np.clip(y_pred, epsilon, 1 - epsilon)\n",
    "\n",
    "    loss = -np.mean(y_true * np.log(y_pred) + (1 - y_true) * np.log(1 - y_pred))\n",
    "    return loss\n",
    "\n",
    "y_reshaped = y.reshape(-1, 1)\n",
    "loss = compute_loss(y, outputs)\n",
    "\n",
    "print(f\"Initial loss: {loss:.4f}\")"
   ]
  },
  {
   "cell_type": "markdown",
   "id": "32cf5b0e-8e1e-4918-8965-7b9ab467eb97",
   "metadata": {},
   "source": [
    "Ok so this is obviously getting incredibley difficult for me right now, im going to continue and try finish out the basic model, then come back and focus on every little bit. The good news is this feels similiar to linear regression in terms of how i felt when going through it the first time and i mean.... linear regression is practically for babies compared to this stuff, so most likely after some more hours going through everything that makes a basic mlp, i should feel more comfortable, im ok with everything feeling out of control for the moment."
   ]
  },
  {
   "cell_type": "code",
   "execution_count": 29,
   "id": "eb34d083-c969-4cee-8ed4-7e98d9eb8b4b",
   "metadata": {},
   "outputs": [
    {
     "name": "stdout",
     "output_type": "stream",
     "text": [
      "dW1: (2, 4)\n",
      "db1: (1, 4)\n",
      "dW2: (4, 1)\n",
      "db2: (1, 1)\n"
     ]
    }
   ],
   "source": [
    "def relu_deriv(x):\n",
    "    return (x > 0).astype(float)\n",
    "\n",
    "def sig_deriv(x):\n",
    "    return sigmoid(x) * (1 - sigmoid(x))\n",
    "\n",
    "def backprop(X, y, params, outputs, cache):\n",
    "    m = X.shape[0]\n",
    "    W1, b1, W2, b2 = params[\"W1\"], params['b1'], params['W2'], params['b2']\n",
    "    z1, a1, z2 = cache['z1'], cache['a1'], cache['z2']\n",
    "\n",
    "    dz2 = outputs - y\n",
    "\n",
    "    dW2 = np.dot(a1.T, dz2) / m\n",
    "    db2 = np.sum(dz2, axis=0, keepdims=True) / m\n",
    "\n",
    "    da1 = np.dot(dz2, W2)\n",
    "    dz1 = da1 * relu_deriv(z1)\n",
    "    dW1 = np.dot(X.T, dz1) / m\n",
    "    db1 = np.sum(dz1, axis=0, keepdims=True) / m\n",
    "    \n",
    "\n",
    "    grads = {'dW1' : dW1, 'db1' :db1, 'dW2': dW2, 'db2': db2}\n",
    "\n",
    "    return grads\n",
    "\n",
    "\n",
    "z1 = np.dot(X, W1.T) + b1\n",
    "a1 = relu(z1)\n",
    "z2 = np.dot(a1,W2.T) + b2\n",
    "outputs = sigmoid(z2)\n",
    "\n",
    "cache = {\n",
    "    'z1': z1,\n",
    "    'a1': a1,\n",
    "    'z2': z2\n",
    "}\n",
    "\n",
    "params = {\n",
    "    'W1': W1, \n",
    "    'b1': b1,\n",
    "    'W2': W2,\n",
    "    'b2': b2\n",
    "}\n",
    "\n",
    "\n",
    "y_reshaped = y.reshape(-1, 1)\n",
    "\n",
    "grads = backprop(X, y_reshaped, params, outputs, cache)\n",
    "\n",
    "for key, value in grads.items():\n",
    "    print(f\"{key}: {value.shape}\")"
   ]
  },
  {
   "cell_type": "code",
   "execution_count": 2,
   "id": "491cebfd-a7f5-428b-a0c7-84c643b33a3c",
   "metadata": {},
   "outputs": [],
   "source": [
    "def update_params(params, grads, learning_rate):\n",
    "    params['W1'] -= learning_rate * grads['dW1']\n",
    "    params['b1'] -= learning_rate * grads['db1']\n",
    "    params['W2'] -= learning_rate * grads['dW2']\n",
    "    params['b2'] -= learning_rate * grads['db2']\n",
    "    return params"
   ]
  },
  {
   "cell_type": "markdown",
   "id": "1a604dae-f3f8-4d9b-afb8-65ae6da13ab0",
   "metadata": {},
   "source": [
    "## So this was a nightmare...."
   ]
  },
  {
   "cell_type": "markdown",
   "id": "438d54a2-1978-416b-a9c0-1b79faac8846",
   "metadata": {},
   "source": [
    "We are going to go again, and we are going to try build something modular and more permanant."
   ]
  },
  {
   "cell_type": "code",
   "execution_count": 46,
   "id": "82f7f86a-26f4-4e6d-ad36-94d9763c4c37",
   "metadata": {},
   "outputs": [],
   "source": [
    "import numpy as np\n",
    "import matplotlib.pyplot as plt\n",
    "\n",
    "class NeuralNetwork:\n",
    "    \n",
    "    def __init__(self, X, y, layers, task = 'binary', learning_rate=0.01, l2=0.0):\n",
    "        self.X = X\n",
    "        self.y = y\n",
    "        self.layers = layers\n",
    "        self.learning_rate = learning_rate\n",
    "        self.params = {}\n",
    "        self.cache = {}\n",
    "        self.loss_history = []\n",
    "        self.l2 = l2\n",
    "        \n",
    "        \n",
    "        if task == 'binary':\n",
    "            self.output_activation = self.sigmoid\n",
    "            self.loss_function = self.binary_cross_entropy\n",
    "        elif task == \"multiclass\":\n",
    "            self.output_activation = self.softmax\n",
    "            self.loss_function = self.categorical_cross_entropy\n",
    "        elif task == \"regression\":\n",
    "            self.output_activation = None\n",
    "            self.loss_function = self.mean_squared_error\n",
    "        else:\n",
    "            raise ValueError(\"Task must be 'regression', 'binary' or 'multiclass'\")\n",
    "\n",
    "        self.initialization()\n",
    "\n",
    "    \n",
    "    def initialization(self):\n",
    "        np.random.seed(42)\n",
    "\n",
    "        input_dimensions = X.shape[1]\n",
    "        \n",
    "        for i, layer in enumerate(self.layers):\n",
    "            layer_number = f\"layer_{i+1}\"\n",
    "            neurons = layer[\"neurons\"]\n",
    "\n",
    "            self.params[f\"W_{layer_number}\"] = np.random.randn(input_dimensions, neurons) * np.sqrt(2 / input_dimensions)\n",
    "            self.params[f\"b_{layer_number}\"] = np.zeros((1, neurons))\n",
    "\n",
    "            input_dimensions = neurons\n",
    "\n",
    "    \n",
    "    def relu(self, z):\n",
    "        return np.maximum(0, z)\n",
    "\n",
    "\n",
    "    def relu_deriv(self, dz):\n",
    "        return (dz > 0).astype(float)\n",
    "        \n",
    "    \n",
    "    def sigmoid(self, z):\n",
    "        return 1 / (1 + np.exp(-z))\n",
    "\n",
    "\n",
    "    def sigmoid_deriv(self, z):\n",
    "        s = self.sigmoid(z)\n",
    "        return s * (1 - s)\n",
    "\n",
    "\n",
    "    def softmax(self, z):\n",
    "        exp_z = np.exp(z - np.max(z, axis = 1, keepdims = True))\n",
    "        return exp_z / np.sum(exp_z, axis = 1, keepdims = True)\n",
    "\n",
    "\n",
    "    def binary_cross_entropy(self, y, y_hat):\n",
    "        epsilon = 1e-8\n",
    "        return -np.mean(y * np.log(y_hat + epsilon) + (1 - y) * np.log(1 - y_hat + epsilon))\n",
    "    \n",
    "\n",
    "    def categorical_cross_entropy(self, y, y_hat):\n",
    "        return -np.mean(np.sum(y * np.log(Y_hat + 1e-8),axis = 1))\n",
    "    \n",
    "\n",
    "    def mean_squared_error(self, y, y_hat):\n",
    "        return np.mean((y - y_hat) ** 2)\n",
    "\n",
    "    \n",
    "    def forward_prop(self):\n",
    "        A = self.X\n",
    "        self.cache[\"A_0\"] = A\n",
    "\n",
    "        for idx, layer in enumerate(self.layers):\n",
    "            layer_id = f\"layer_{idx + 1}\"\n",
    "            W = self.params[f\"W_{layer_id}\"]\n",
    "            b = self.params[f\"b_{layer_id}\"]\n",
    "\n",
    "            Z = np.dot(A, W) + b\n",
    "            activation = layer[\"activation\"]\n",
    "\n",
    "            if idx < len(self.layers) -1:\n",
    "                if activation == \"relu\":\n",
    "                    A = self.relu(Z)\n",
    "                elif activation == \"sigmoid\":\n",
    "                    A = self.sigmoid(Z)\n",
    "                elif activation == None:\n",
    "                    A = Z\n",
    "                else:\n",
    "                    raise ValueError(\"Unsupported activation function\")\n",
    "            else:\n",
    "                if self.output_activation:\n",
    "                    A = self.output_activation(Z)\n",
    "                else:\n",
    "                    A = Z\n",
    "\n",
    "            self.cache[f\"Z_{layer_id}\"] = Z\n",
    "            self.cache[f\"A_{idx + 1}\"] = A\n",
    "        \n",
    "        return A\n",
    "\n",
    "        \n",
    "    def back_prop(self, y_hat):\n",
    "        m = self.y.shape[0]\n",
    "        epsilon = 1e-8\n",
    "        dA = - (np.divide(self.y, y_hat + epsilon) - np.divide(1 - self.y, 1 - y_hat + epsilon))\n",
    "\n",
    "        for idx in reversed(range(len(self.layers))):\n",
    "            layer_id = f\"layer_{idx + 1}\"\n",
    "            Z = self.cache[f\"Z_{layer_id}\"]\n",
    "            A_prev = self.cache[f\"A_{idx}\"]\n",
    "\n",
    "            activation = self.layers[idx][\"activation\"]\n",
    "            W = self.params[f\"W_{layer_id}\"]\n",
    "\n",
    "            if activation == \"relu\":\n",
    "                dZ = dA * self.relu_deriv(Z)\n",
    "            elif activation == \"sigmoid\":\n",
    "                dZ = dA * self.sigmoid_deriv(Z)\n",
    "            elif activation is None:\n",
    "                dZ = dA \n",
    "            else:\n",
    "                raise ValueError(\"Unsupported activation function\")\n",
    "\n",
    "            dW = (np.dot(A_prev.T, dZ) / m) + (self.l2 * self.params[f\"W_{layer_id}\"])\n",
    "            db = np.sum(dZ, axis = 0, keepdims = True) / m\n",
    "            dA = np.dot(dZ, W.T)\n",
    "\n",
    "            self.params[f\"W_{layer_id}\"] -= self.learning_rate *dW\n",
    "            self.params[f\"b_{layer_id}\"] -= self.learning_rate *db\n",
    "\n",
    "            \n",
    "    def train(self, epochs=100):\n",
    "        for epoch in range(epochs):\n",
    "            y_hat = self.forward_prop()\n",
    "\n",
    "            loss = self.loss_function(self.y, y_hat)\n",
    "\n",
    "            # Implementation of L2 reg hopefully to help generalize better.\n",
    "            l2_penalty = (self.l2 / (2 * self.X.shape[0])) * sum(np.sum(np.square(self.params[f\"W_layer_{i + 1}\"])) for i in range(len(self.layers)))\n",
    "            total_loss = loss + l2_penalty\n",
    "            \n",
    "            self.loss_history.append(loss)\n",
    "            self.back_prop(y_hat)\n",
    "\n",
    "            if epoch % 100 == 0:\n",
    "                print(f\"Epoch {epoch}, Loss: {loss:.4f}\")\n",
    "\n",
    "        \n",
    "    def predict(self, X):\n",
    "        A = X\n",
    "        for idx, layer in enumerate(self.layers):\n",
    "            layer_id = f\"layer_{idx + 1}\"\n",
    "            W = self.params[f\"W_{layer_id}\"]\n",
    "            b = self.params[f\"b_{layer_id}\"]\n",
    "\n",
    "            Z = np.dot(A, W) + b\n",
    "            if idx < len(self.layers) - 1:\n",
    "                activation = layer[\"activation\"]\n",
    "                A = self.relu(Z) if activation == \"relu\" else self.sigmoid(Z)\n",
    "            else:\n",
    "                A = self.output_activation(Z) if self.output_activation else Z\n",
    "\n",
    "        return A\n",
    "\n",
    "\n",
    "    def visualize(self):\n",
    "        \n",
    "        plt.plot(range(len(self.loss_history)), self.loss_history)\n",
    "        plt.xlabel(\"Epochs\")\n",
    "        plt.ylabel(\"Loss\")\n",
    "        plt.title(\"Loss Over Epochs\")\n",
    "        plt.grid()\n",
    "        plt.show()\n"
   ]
  },
  {
   "cell_type": "markdown",
   "id": "a46f0b38-f138-4704-aa1d-f24e3854ebb2",
   "metadata": {},
   "source": [
    "## NN2, electric boogaloo"
   ]
  },
  {
   "cell_type": "markdown",
   "id": "b9ad04ae-1968-4526-8795-779ab1264fa4",
   "metadata": {},
   "source": [
    "Lets fire this baby up and see how she goes!"
   ]
  },
  {
   "cell_type": "code",
   "execution_count": 47,
   "id": "c6c0b365-fd0c-4684-a58a-2d2c387b1b96",
   "metadata": {},
   "outputs": [
    {
     "name": "stdout",
     "output_type": "stream",
     "text": [
      "Epoch 0, Loss: 0.7945\n",
      "Epoch 100, Loss: 0.4142\n",
      "Epoch 200, Loss: 0.1975\n",
      "Epoch 300, Loss: 0.1137\n",
      "Epoch 400, Loss: 0.0754\n",
      "Epoch 500, Loss: 0.0550\n",
      "Epoch 600, Loss: 0.0426\n",
      "Epoch 700, Loss: 0.0345\n",
      "Epoch 800, Loss: 0.0288\n",
      "Epoch 900, Loss: 0.0246\n",
      "Epoch 1000, Loss: 0.0214\n",
      "Epoch 1100, Loss: 0.0189\n",
      "Epoch 1200, Loss: 0.0168\n",
      "Epoch 1300, Loss: 0.0152\n",
      "Epoch 1400, Loss: 0.0138\n",
      "Epoch 1500, Loss: 0.0127\n",
      "Epoch 1600, Loss: 0.0117\n",
      "Epoch 1700, Loss: 0.0109\n",
      "Epoch 1800, Loss: 0.0101\n",
      "Epoch 1900, Loss: 0.0095\n"
     ]
    },
    {
     "data": {
      "image/png": "[encoded data removed]",
      "text/plain": [
       "<Figure size 640x480 with 1 Axes>"
      ]
     },
     "metadata": {},
     "output_type": "display_data"
    },
    {
     "name": "stdout",
     "output_type": "stream",
     "text": [
      "Predictions:  [[0.028]\n",
      " [0.995]\n",
      " [1.   ]\n",
      " [0.002]]\n",
      "Actual labels : [[0]\n",
      " [1]\n",
      " [1]\n",
      " [0]]\n"
     ]
    },
    {
     "data": {
      "text/plain": [
       "numpy.ndarray"
      ]
     },
     "execution_count": 47,
     "metadata": {},
     "output_type": "execute_result"
    }
   ],
   "source": [
    "X = np.array([[0, 0], [0, 1], [1, 0], [1, 1]])\n",
    "y = np.array([[0], [1], [1], [0]])\n",
    "\n",
    "layers = [\n",
    "    {\"neurons\": 3, \"activation\": \"relu\"},\n",
    "    {\"neurons\": 2, \"activation\": \"relu\"},\n",
    "    {\"neurons\": 1, \"activation\": \"sigmoid\"}\n",
    "]\n",
    "\n",
    "nn = NeuralNetwork(X, y, layers, task = \"binary\", learning_rate = 0.1)\n",
    "\n",
    "nn.train(epochs = 2000)\n",
    "nn.visualize()\n",
    "\n",
    "predictions = nn.predict(X)\n",
    "print(\"Predictions: \", np.round(predictions, 3))\n",
    "print(\"Actual labels :\", y)"
   ]
  },
  {
   "cell_type": "code",
   "execution_count": 48,
   "id": "7e9ddd08-ff74-4b71-b17c-191d26bd9f97",
   "metadata": {},
   "outputs": [
    {
     "data": {
      "image/png": "[encoded data removed]",
      "text/plain": [
       "<Figure size 640x480 with 1 Axes>"
      ]
     },
     "metadata": {},
     "output_type": "display_data"
    }
   ],
   "source": [
    "def plot_decision_boundaries(nn, X, y):\n",
    "    x_min, x_max = X[:, 0].min() - 1, X[:, 0].max() + 1\n",
    "    y_min, y_max = X[:, 0].min() - 1, X[:, 1].max() + 1\n",
    "    xx, yy = np.meshgrid(np.arange(x_min, x_max, 0.01),\n",
    "                         np.arange(y_min, y_max, 0.01))\n",
    "\n",
    "    grid_points = np.c_[xx.ravel(), yy.ravel()]\n",
    "    predictions = nn.predict(grid_points)\n",
    "    predictions = predictions.reshape(xx.shape)\n",
    "\n",
    "    plt.contour(xx, yy, predictions, alpha = 0.8, cmap = \"coolwarm\")\n",
    "    plt.scatter(X[:, 0], X[:, 1], c = y.ravel(), edgecolor = \"k\", cmap = \"coolwarm\", s = 40)\n",
    "    plt.xlabel(\"feature 1\")\n",
    "    plt.ylabel(\"feature 2\")\n",
    "    plt.title(\"Decision Boundaries\")\n",
    "    plt.show()\n",
    "\n",
    "plot_decision_boundaries(nn, X, y)"
   ]
  },
  {
   "cell_type": "code",
   "execution_count": null,
   "id": "a6514be3-19e1-4e70-9d47-8cb66663ce1d",
   "metadata": {},
   "outputs": [],
   "source": []
  }
 ],
 "metadata": {
  "kernelspec": {
   "display_name": "Python 3 (ipykernel)",
   "language": "python",
   "name": "python3"
  },
  "language_info": {
   "codemirror_mode": {
    "name": "ipython",
    "version": 3
   },
   "file_extension": ".py",
   "mimetype": "text/x-python",
   "name": "python",
   "nbconvert_exporter": "python",
   "pygments_lexer": "ipython3",
   "version": "3.13.1"
  }
 },
 "nbformat": 4,
 "nbformat_minor": 5
}
